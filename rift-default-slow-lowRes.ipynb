{
 "cells": [
  {
   "cell_type": "markdown",
   "metadata": {},
   "source": [
    "**Default rifting with sediment**"
   ]
  },
  {
   "cell_type": "code",
   "execution_count": null,
   "metadata": {
    "scrolled": true
   },
   "outputs": [],
   "source": [
    "import UWGeodynamics as GEO\n",
    "import glucifer"
   ]
  },
  {
   "cell_type": "code",
   "execution_count": null,
   "metadata": {},
   "outputs": [],
   "source": [
    "u = GEO.UnitRegistry"
   ]
  },
  {
   "cell_type": "markdown",
   "metadata": {},
   "source": [
    "**Scaling**"
   ]
  },
  {
   "cell_type": "code",
   "execution_count": null,
   "metadata": {},
   "outputs": [],
   "source": [
    "half_rate = 1.8 * u.centimeter / u.year\n",
    "model_length = 360e3 * u.meter\n",
    "surfaceTemp = 273.15 * u.degK\n",
    "baseModelTemp = 1603.15 * u.degK\n",
    "bodyforce = 3300 * u.kilogram / u.metre**3 * 9.81 * u.meter / u.second**2\n",
    "\n",
    "KL = model_length\n",
    "Kt = KL / half_rate\n",
    "KM = bodyforce * KL**2 * Kt**2\n",
    "KT = (baseModelTemp - surfaceTemp)\n",
    "\n",
    "GEO.scaling_coefficients[\"[length]\"] = KL\n",
    "GEO.scaling_coefficients[\"[time]\"] = Kt\n",
    "GEO.scaling_coefficients[\"[mass]\"]= KM\n",
    "GEO.scaling_coefficients[\"[temperature]\"] = KT"
   ]
  },
  {
   "cell_type": "markdown",
   "metadata": {},
   "source": [
    "**finite strain for rifting events**"
   ]
  },
  {
   "cell_type": "code",
   "execution_count": null,
   "metadata": {},
   "outputs": [],
   "source": [
    "finite_strain = 0.\n",
    "length = 360.0 * u.kilometer # km\n",
    "rift_length = length * (1+finite_strain)\n",
    "print(rift_length)"
   ]
  },
  {
   "cell_type": "markdown",
   "metadata": {},
   "source": [
    "**Define model variables**"
   ]
  },
  {
   "cell_type": "code",
   "execution_count": null,
   "metadata": {},
   "outputs": [],
   "source": [
    "#resolution\n",
    "res = (64,32)\n",
    "#res = (128, 64)\n",
    "\n",
    "rift_velocity = 5.0 * u.centimeters / u.year\n",
    "rift_time = rift_length/rift_velocity\n",
    "\n",
    "print(rift_velocity.to_base_units())\n",
    "print(rift_time.to(u.megayear))"
   ]
  },
  {
   "cell_type": "code",
   "execution_count": null,
   "metadata": {},
   "outputs": [],
   "source": [
    "Model.outputDir = \"outputs_riftDef_withsedi\""
   ]
  },
  {
   "cell_type": "markdown",
   "metadata": {},
   "source": [
    "**Define the external geometry**"
   ]
  },
  {
   "cell_type": "code",
   "execution_count": null,
   "metadata": {},
   "outputs": [],
   "source": [
    "Model = GEO.Model(elementRes=res, \n",
    "                  minCoord=(0. * u.kilometer, -110. * u.kilometer), \n",
    "                  maxCoord=(360. * u.kilometer, 10. * u.kilometer), \n",
    "                  gravity=(0.0, -9.81 * u.meter / u.second**2))"
   ]
  },
  {
   "cell_type": "markdown",
   "metadata": {},
   "source": [
    "**Add Materials**"
   ]
  },
  {
   "cell_type": "code",
   "execution_count": null,
   "metadata": {},
   "outputs": [],
   "source": [
    "Model.diffusivity = 1e-6 * u.metre**2 / u.second \n",
    "Model.capacity    = 1000. * u.joule / (u.kelvin * u.kilogram)"
   ]
  },
  {
   "cell_type": "code",
   "execution_count": null,
   "metadata": {},
   "outputs": [],
   "source": [
    "air = Model.add_material(name=\"Air\", shape=GEO.shapes.Layer(top=Model.top, bottom=2.0 * u.kilometer))\n",
    "stickyAir = Model.add_material(name=\"StickyAir\", shape=GEO.shapes.Layer(top=air.bottom, bottom= 0.0 * u.kilometer))\n",
    "\n",
    "#include sediments, infill of sediments, or not! \n",
    "sediment = Model.add_material(name=\"Sediment\")#, shape=GEO.shapes.Layer(top=1.0*u.kilometer, bottom=Model.bottom))\n",
    "\n",
    "crustUpper = Model.add_material(name=\"CrustUpper\", shape=GEO.shapes.Layer(top=stickyAir.bottom, bottom=-15.0 * u.kilometer))\n",
    "crustLower = Model.add_material(name=\"CrustLower\", shape=GEO.shapes.Layer(top=crustUpper.bottom, bottom=-30.0 * u.kilometer))\n",
    "\n",
    "mantleLithosphere = Model.add_material(name=\"MantleLithosphere\", shape=GEO.shapes.Layer(top=crustLower.bottom, bottom=-100.0 * u.kilometer))\n",
    "mantle = Model.add_material(name=\"Mantle\", shape=GEO.shapes.Layer(top=mantleLithosphere.bottom, bottom=Model.bottom))\n",
    "\n"
   ]
  },
  {
   "cell_type": "code",
   "execution_count": null,
   "metadata": {},
   "outputs": [],
   "source": [
    "air.diffusivity = 1.0e-6 * u.metre**2 / u.second\n",
    "stickyAir.diffusivity = 1.0e-6 * u.metre**2 / u.second\n",
    "\n",
    "air.capacity = 100. * u.joule / (u.kelvin * u.kilogram)\n",
    "stickyAir.capacity = 100. * u.joule / (u.kelvin * u.kilogram)"
   ]
  },
  {
   "cell_type": "code",
   "execution_count": null,
   "metadata": {},
   "outputs": [],
   "source": [
    "air.density = 1. * u.kilogram / u.metre**3\n",
    "stickyAir.density = 1. * u.kilogram / u.metre**3\n",
    "\n",
    "crustUpper.density = GEO.LinearDensity(2700. * u.kilogram / u.metre**3, thermalExpansivity=3e-5 / u.kelvin)\n",
    "crustLower.density = GEO.LinearDensity(2900. * u.kilogram / u.metre**3, thermalExpansivity=3e-5 / u.kelvin)\n",
    "\n",
    "mantleLithosphere.density = GEO.LinearDensity(3370. * u.kilogram / u.metre**3, thermalExpansivity=3e-5 / u.kelvin)\n",
    "mantle.density = GEO.LinearDensity(3370. * u.kilogram / u.metre**3, thermalExpansivity=3e-5 / u.kelvin)\n",
    "\n",
    "sediment.density = 2300. * u.kilogram / u.metre**3"
   ]
  },
  {
   "cell_type": "code",
   "execution_count": null,
   "metadata": {},
   "outputs": [],
   "source": [
    "crustUpper.radiogenicHeatProd = 0.7 * u.microwatt / u.meter**3\n",
    "crustLower.radiogenicHeatProd = 0.7 * u.microwatt / u.meter**3\n",
    "mantleLithosphere.radiogenicHeatProd = 0.02e-6 * u.microwatt / u.meter**3\n",
    "sediment.radiogenicHeatProd = 0.6 * u.microwatt / u.meter**3"
   ]
  },
  {
   "cell_type": "markdown",
   "metadata": {},
   "source": [
    "**Define Viscosities**"
   ]
  },
  {
   "cell_type": "code",
   "execution_count": null,
   "metadata": {},
   "outputs": [],
   "source": [
    "rh = GEO.ViscousCreepRegistry()"
   ]
  },
  {
   "cell_type": "code",
   "execution_count": null,
   "metadata": {},
   "outputs": [],
   "source": [
    "Model.minViscosity = 1e18 * u.pascal * u.second\n",
    "Model.maxViscosity = 1e23 * u.pascal * u.second\n",
    "\n",
    "air.viscosity                = 1e19 * u.pascal * u.second\n",
    "stickyAir.viscosity          = 1e20 * u.pascal * u.second\n",
    "\n",
    "crustUpper.viscosity         = rh.Wet_Quartz_Dislocation_Gleason_and_Tullis_1995\n",
    "crustLower.viscosity         = rh.Dry_Columbia_Diabase_Dislocation_Mackwell_et_al_1998\n",
    "\n",
    "mantleLithosphere.viscosity  = 5.0 * rh.Dry_Olivine_Dislocation_Karato_and_Wu_1990\n",
    "mantle.viscosity             = 1.0 * rh.Dry_Olivine_Dislocation_Karato_and_Wu_1990\n",
    "\n",
    "sediment.viscosity           = rh.Wet_Quartz_Dislocation_Gleason_and_Tullis_1995"
   ]
  },
  {
   "cell_type": "markdown",
   "metadata": {},
   "source": [
    "**Define Plasticity**"
   ]
  },
  {
   "cell_type": "code",
   "execution_count": null,
   "metadata": {},
   "outputs": [],
   "source": [
    "pl = GEO.PlasticityRegistry()"
   ]
  },
  {
   "cell_type": "code",
   "execution_count": null,
   "metadata": {},
   "outputs": [],
   "source": [
    "crustUpper.plasticity         = pl.Huismans_et_al_2011_Crust\n",
    "crustLower.plasticity         = pl.Huismans_et_al_2011_Crust\n",
    "mantleLithosphere.plasticity  = pl.Huismans_et_al_2011_Crust\n",
    "mantle.plasticity             = pl.Huismans_et_al_2011_Crust\n",
    "sediment.plasticity           = pl.Huismans_et_al_2011_Crust"
   ]
  },
  {
   "cell_type": "markdown",
   "metadata": {},
   "source": [
    "**Apply Boundary Conditions**"
   ]
  },
  {
   "cell_type": "code",
   "execution_count": null,
   "metadata": {},
   "outputs": [],
   "source": [
    "Model.set_temperatureBCs(top=293.15 * u.degK, \n",
    "                         bottom=1603.15 * u.degK, \n",
    "                         materials=[(air, 293.15 * u.degK), (stickyAir, 293.15 * u.degK)])"
   ]
  },
  {
   "cell_type": "code",
   "execution_count": null,
   "metadata": {},
   "outputs": [],
   "source": [
    "Model.set_velocityBCs(left=[-2.5 * u.centimeter / u.year, None],\n",
    "                       right=[2.5 * u.centimeter / u.year, None],\n",
    "                       bottom=GEO.LecodeIsostasy(reference_mat=mantle, average=True))"
   ]
  },
  {
   "cell_type": "markdown",
   "metadata": {},
   "source": [
    "**Initialise plastic strain**"
   ]
  },
  {
   "cell_type": "code",
   "execution_count": null,
   "metadata": {},
   "outputs": [],
   "source": [
    "import numpy as np\n",
    "\n",
    "def gaussian(xx, centre, width):\n",
    "    return ( np.exp( -(xx - centre)**2 / width ))\n",
    "\n",
    "maxDamage = 0.7\n",
    "Model.plasticStrain.data[:] = maxDamage * np.random.rand(*Model.plasticStrain.data.shape[:])\n",
    "Model.plasticStrain.data[:,0] *= gaussian(Model.swarm.particleCoordinates.data[:,0], (GEO.nd(Model.maxCoord[0] - Model.minCoord[0])) / 2.0, GEO.nd(5.0 * u.kilometer))\n",
    "Model.plasticStrain.data[:,0] *= gaussian(Model.swarm.particleCoordinates.data[:,1], GEO.nd(-35. * u.kilometer) , GEO.nd(5.0 * u.kilometer))"
   ]
  },
  {
   "cell_type": "code",
   "execution_count": null,
   "metadata": {
    "tags": [
     "analysis"
    ]
   },
   "outputs": [],
   "source": [
    "Fig = glucifer.Figure(figsize=(1200, 400))\n",
    "Fig.Points(Model.swarm, Model.plasticStrain, fn_size=4.0)\n",
    "Fig.show()"
   ]
  },
  {
   "cell_type": "markdown",
   "metadata": {},
   "source": [
    "**Passive Tracers**"
   ]
  },
  {
   "cell_type": "code",
   "execution_count": null,
   "metadata": {},
   "outputs": [],
   "source": [
    "x = (Model.maxCoord[0] - Model.minCoord[0]) / 2.0 # This is the center of the model\n",
    "#y = 0.0 * u.kilometer # The point is located at the surface, initially set at 0.\n",
    "\n",
    "# top of crust\n",
    "central_tracer = Model.add_passive_tracers(name=\"central\", vertices=[x,crustUpper.top])"
   ]
  },
  {
   "cell_type": "code",
   "execution_count": null,
   "metadata": {},
   "outputs": [],
   "source": [
    "import numpy as np\n",
    "\n",
    "npoints = 1000 # This is the number of points used to define the surface\n",
    "x = np.linspace(Model.minCoord[0], Model.maxCoord[0], npoints) * u.kilometer\n",
    "y = crustUpper.top\n",
    "crustUpper_tracers = Model.add_passive_tracers(name=\"CrustUpper\", vertices=[x,y])\n",
    "\n",
    "crustLower_tracers = Model.add_passive_tracers(name=\"CrustLower\", vertices=[x,crustLower.top])\n",
    "moho_tracers = Model.add_passive_tracers(name=\"Moho\", vertices=[x,y-35.*u.kilometer])"
   ]
  },
  {
   "cell_type": "code",
   "execution_count": null,
   "metadata": {},
   "outputs": [],
   "source": [
    "#y = sediment.top\n",
    "sediment_tracers = Model.add_passive_tracers(name=\"Sediment\", vertices=[x,sediment.top])"
   ]
  },
  {
   "cell_type": "markdown",
   "metadata": {},
   "source": [
    "**Grid Tracers**"
   ]
  },
  {
   "cell_type": "code",
   "execution_count": null,
   "metadata": {},
   "outputs": [],
   "source": [
    "x_cu, y_cu = GEO.circles_grid(radius=2.0*u.kilometer, \n",
    "                    minCoord=[Model.minCoord[0], crustUpper.bottom], \n",
    "                    maxCoord=[Model.maxCoord[0], crustUpper.top])\n",
    "\n",
    "x_cl, y_cl = GEO.circles_grid(radius=2.0*u.kilometer, \n",
    "                    minCoord=[Model.minCoord[0], crustLower.bottom], \n",
    "                    maxCoord=[Model.maxCoord[0], crustLower.top])\n",
    "\n",
    "FSE_CrustUpper = Model.add_passive_tracers(name=\"FSE_CrustUpper\", vertices=[x_cu, y_cu])\n",
    "FSE_CrustLower = Model.add_passive_tracers(name=\"FSE_CrustLower\", vertices=[x_cl, y_cl])\n",
    "\n",
    "x_m, y_m = GEO.circles_grid(radius=2.0*u.kilometer, \n",
    "                    minCoord=[Model.minCoord[0], mantleLithosphere.bottom], \n",
    "                    maxCoord=[Model.maxCoord[0], mantleLithosphere.top])\n",
    "\n",
    "FSE_Mantle = Model.add_passive_tracers(name=\"FSE_Mantle\", vertices=[x_m, y_m])"
   ]
  },
  {
   "cell_type": "code",
   "execution_count": null,
   "metadata": {
    "tags": [
     "analysis"
    ]
   },
   "outputs": [],
   "source": [
    "Fig = glucifer.Figure(figsize=(1200,400), title=\"Material Field\", quality=2)\n",
    "Fig.Points(crustUpper_tracers.swarm, pointSize=2.0)\n",
    "Fig.Points(sediment_tracers.swarm, pointSize=2.0)\n",
    "Fig.Points(crustLower_tracers.swarm, pointSize=2.0)\n",
    "Fig.Points(crustUpper_tracers.swarm, pointSize=2.0)\n",
    "Fig.Points(moho_tracers.swarm, pointSize=2.0, colour=\"red\")\n",
    "Fig.Points(FSE_CrustUpper.swarm, pointSize=2.0)\n",
    "Fig.Points(FSE_CrustLower.swarm, pointSize=2.0)\n",
    "Fig.Points(FSE_Mantle.swarm, pointSize=2.0)\n",
    "Fig.Points(Model.swarm, Model.materialField, fn_size=2.0)\n",
    "Fig.show()"
   ]
  },
  {
   "cell_type": "markdown",
   "metadata": {},
   "source": [
    "# Compute initial condition"
   ]
  },
  {
   "cell_type": "code",
   "execution_count": null,
   "metadata": {},
   "outputs": [],
   "source": [
    "Model.init_model()"
   ]
  },
  {
   "cell_type": "code",
   "execution_count": null,
   "metadata": {
    "tags": [
     "analysis"
    ]
   },
   "outputs": [],
   "source": [
    "Fig = glucifer.Figure(figsize=(1200,400), title=\"Temperature Field (Celsius)\", quality=3)\n",
    "Fig.Surface(Model.mesh, GEO.Dimensionalize(Model.temperature, u.degC), colours=\"coolwarm\")\n",
    "Fig.show()"
   ]
  },
  {
   "cell_type": "code",
   "execution_count": null,
   "metadata": {
    "tags": [
     "analysis"
    ]
   },
   "outputs": [],
   "source": [
    "Fig = glucifer.Figure(figsize=(1200,400), title=\"Pressure Field (MPa)\", quality=3)\n",
    "Fig.Surface(Model.mesh, GEO.Dimensionalize(Model.pressureField, u.megapascal))\n",
    "Fig.show()"
   ]
  },
  {
   "cell_type": "markdown",
   "metadata": {},
   "source": [
    "## Basic Analysis of the initial set-up\n",
    "\n",
    "Let's analyze the pressure and temperature field by creating a vertical profile at the center of the model."
   ]
  },
  {
   "cell_type": "code",
   "execution_count": null,
   "metadata": {
    "tags": [
     "analysis"
    ]
   },
   "outputs": [],
   "source": [
    "# Only run this when in serial. Will fail in parallel\n",
    "\n",
    "if GEO.uw.nProcs() == 1:\n",
    "\n",
    "    import matplotlib.pyplot as plt\n",
    "\n",
    "    moho_average_temperature = Model.temperature.evaluate(moho_tracers.swarm).mean()\n",
    "    moho_average_temperature = GEO.Dimensionalize(moho_average_temperature, u.degC)\n",
    "\n",
    "    print(\"Average Temperature at Moho: {0:5.0f}\".format(moho_average_temperature))\n",
    "\n",
    "    distances, temperature = GEO.extract_profile(Model.temperature, line = [(180.* u.kilometer, 0.), (180.* u.kilometer, Model.bottom)])\n",
    "    distances, pressure = GEO.extract_profile(Model.pressureField, line = [(180.* u.kilometer, 0.), (180.* u.kilometer, Model.bottom)])\n",
    "\n",
    "    Fig, (ax1, ax2) = plt.subplots(1,2,figsize=(15,7))\n",
    "    ax1.plot(GEO.Dimensionalize(temperature, u.degK), GEO.Dimensionalize(distances, u.kilometer))\n",
    "    ax1.set_xlabel(\"Temperature in Kelvin\")\n",
    "    ax1.set_ylabel(\"Depth in kms\")\n",
    "    ax1.set_ylim(100, 0)\n",
    "    ax1.set_title(\"Temperature profile\")\n",
    "\n",
    "    ax2.plot(GEO.Dimensionalize(pressure, u.megapascal), GEO.Dimensionalize(distances, u.kilometer))\n",
    "    ax2.set_xlabel(\"Pressure in megapascal\")\n",
    "    ax2.set_ylabel(\"Depth in kms\")\n",
    "    ax2.set_title(\"Pressure profile\")\n",
    "    ax2.set_ylim(100, 0)\n",
    "    plt.show()"
   ]
  },
  {
   "cell_type": "markdown",
   "metadata": {},
   "source": [
    "In a similar fashion, one can extract a vertical profile of the viscosity field."
   ]
  },
  {
   "cell_type": "code",
   "execution_count": null,
   "metadata": {
    "tags": [
     "analysis"
    ]
   },
   "outputs": [],
   "source": [
    "Fig = glucifer.Figure(figsize=(1200,400), title=\"Viscosity Field (Pa.s)\", quality=3)\n",
    "Fig.Points(Model.swarm, \n",
    "           GEO.Dimensionalize(Model.viscosityField, u.pascal * u.second),\n",
    "           logScale=True,\n",
    "           fn_size=3.0)\n",
    "Fig.show()"
   ]
  },
  {
   "cell_type": "code",
   "execution_count": null,
   "metadata": {
    "tags": [
     "analysis"
    ]
   },
   "outputs": [],
   "source": [
    "# Only run this when in serial. Will fail in parallel\n",
    "\n",
    "if GEO.uw.nProcs() == 1:\n",
    "\n",
    "    distances, viscosities = GEO.extract_profile(Model.projViscosityField, \n",
    "                                                 line = [(180.* u.kilometer, 0.), (180.* u.kilometer, Model.bottom)])\n",
    "    distances, stresses = GEO.extract_profile(Model.projStressField, \n",
    "                                             line = [(180.* u.kilometer, 0.), (180.* u.kilometer, Model.bottom)])\n",
    "\n",
    "\n",
    "    Fig, (ax1) = plt.subplots(1,1,figsize=(7,7))\n",
    "    ax1.plot(GEO.Dimensionalize(viscosities, u.pascal * u.second), GEO.Dimensionalize(distances, u.kilometer))\n",
    "    ax1.set_xlabel(\"Viscosity in Pa.s\")\n",
    "    ax1.set_ylabel(\"Depth in kms\")\n",
    "    ax1.set_ylim(100,-10)\n",
    "    ax1.set_title(\"Viscosity profile\")"
   ]
  },
  {
   "cell_type": "markdown",
   "metadata": {},
   "source": [
    "## Solver options"
   ]
  },
  {
   "cell_type": "code",
   "execution_count": null,
   "metadata": {},
   "outputs": [],
   "source": [
    "Model.solver.set_inner_method(\"mumps\")\n",
    "Model.solver.set_penalty(1e6)\n",
    "GEO.rcParams[\"initial.nonlinear.tolerance\"] = 1e-4"
   ]
  },
  {
   "cell_type": "markdown",
   "metadata": {},
   "source": [
    "# Run the Model"
   ]
  },
  {
   "cell_type": "code",
   "execution_count": null,
   "metadata": {},
   "outputs": [],
   "source": [
    "Model.run_for(nstep=2, checkpoint_interval=1)"
   ]
  },
  {
   "cell_type": "code",
   "execution_count": null,
   "metadata": {
    "tags": [
     "analysis"
    ]
   },
   "outputs": [],
   "source": [
    "Fig = glucifer.Figure(figsize=(1200,400), title=\"Viscosity Field (Pa.s)\", quality=3)\n",
    "Fig.Points(Model.swarm, \n",
    "           GEO.Dimensionalize(Model.viscosityField, u.pascal * u.second),\n",
    "           logScale=True,\n",
    "           fn_size=3.0)\n",
    "Fig.VectorArrows(Model.mesh, Model.velocityField)\n",
    "Fig.show()"
   ]
  },
  {
   "cell_type": "code",
   "execution_count": null,
   "metadata": {
    "tags": [
     "analysis"
    ]
   },
   "outputs": [],
   "source": [
    "Fig = glucifer.Figure(figsize=(1200,400), title=\"Viscosity Field (Pa.s)\", quality=3)\n",
    "Fig.Surface(Model.mesh, \n",
    "           GEO.Dimensionalize(Model.strainRateField, 1.0 / u.second),\n",
    "           logScale=True)\n",
    "Fig.show()"
   ]
  },
  {
   "cell_type": "code",
   "execution_count": null,
   "metadata": {},
   "outputs": [],
   "source": [
    "Model.materials.index"
   ]
  },
  {
   "cell_type": "code",
   "execution_count": null,
   "metadata": {},
   "outputs": [],
   "source": [
    "Fig = glucifer.Figure(figsize=(1200,400), title=\"Material Index\", quality=3)\n",
    "Fig.Points(Model.swarm,\n",
    "           Model.materialField,\n",
    "           fn_size=2.0)\n",
    "Fig.show()"
   ]
  },
  {
   "cell_type": "code",
   "execution_count": null,
   "metadata": {},
   "outputs": [],
   "source": []
  },
  {
   "cell_type": "code",
   "execution_count": null,
   "metadata": {},
   "outputs": [],
   "source": []
  }
 ],
 "metadata": {
  "kernelspec": {
   "display_name": "Python 2",
   "language": "python",
   "name": "python2"
  },
  "language_info": {
   "codemirror_mode": {
    "name": "ipython",
    "version": 2
   },
   "file_extension": ".py",
   "mimetype": "text/x-python",
   "name": "python",
   "nbconvert_exporter": "python",
   "pygments_lexer": "ipython2",
   "version": "2.7.13"
  }
 },
 "nbformat": 4,
 "nbformat_minor": 2
}
