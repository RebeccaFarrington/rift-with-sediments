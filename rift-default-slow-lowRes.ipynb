{
 "cells": [
  {
   "cell_type": "markdown",
   "metadata": {},
   "source": [
    "**Default rifting with sediment**"
   ]
  },
  {
   "cell_type": "markdown",
   "metadata": {},
   "source": [
    "Need to include\n",
    "+ correct rheology\n"
   ]
  },
  {
   "cell_type": "code",
   "execution_count": 1,
   "metadata": {},
   "outputs": [
    {
     "ename": "ImportError",
     "evalue": "No module named 'UWGeodynamics.version'",
     "output_type": "error",
     "traceback": [
      "\u001b[0;31m---------------------------------------------------------------------------\u001b[0m",
      "\u001b[0;31mImportError\u001b[0m                               Traceback (most recent call last)",
      "\u001b[0;32m<ipython-input-1-fa42609bd0b6>\u001b[0m in \u001b[0;36m<module>\u001b[0;34m\u001b[0m\n\u001b[0;32m----> 1\u001b[0;31m \u001b[0;32mimport\u001b[0m \u001b[0mUWGeodynamics\u001b[0m \u001b[0;32mas\u001b[0m \u001b[0mGEO\u001b[0m\u001b[0;34m\u001b[0m\u001b[0m\n\u001b[0m\u001b[1;32m      2\u001b[0m \u001b[0;32mimport\u001b[0m \u001b[0mglucifer\u001b[0m\u001b[0;34m\u001b[0m\u001b[0m\n",
      "\u001b[0;32m/workspace/user_data/UWGeodynamics/UWGeodynamics/__init__.py\u001b[0m in \u001b[0;36m<module>\u001b[0;34m\u001b[0m\n\u001b[1;32m     24\u001b[0m \u001b[0;32mfrom\u001b[0m \u001b[0;34m.\u001b[0m\u001b[0mscaling\u001b[0m \u001b[0;32mimport\u001b[0m \u001b[0mnonDimensionalize\u001b[0m\u001b[0;34m\u001b[0m\u001b[0m\n\u001b[1;32m     25\u001b[0m \u001b[0;32mfrom\u001b[0m \u001b[0;34m.\u001b[0m\u001b[0mscaling\u001b[0m \u001b[0;32mimport\u001b[0m \u001b[0mDimensionalize\u001b[0m\u001b[0;34m\u001b[0m\u001b[0m\n\u001b[0;32m---> 26\u001b[0;31m \u001b[0;32mfrom\u001b[0m \u001b[0;34m.\u001b[0m\u001b[0mLecodeIsostasy\u001b[0m \u001b[0;32mimport\u001b[0m \u001b[0mLecodeIsostasy\u001b[0m\u001b[0;34m\u001b[0m\u001b[0m\n\u001b[0m\u001b[1;32m     27\u001b[0m \u001b[0;32mfrom\u001b[0m \u001b[0;34m.\u001b[0m\u001b[0mlithopress\u001b[0m \u001b[0;32mimport\u001b[0m \u001b[0mLithostaticPressure\u001b[0m\u001b[0;34m\u001b[0m\u001b[0m\n\u001b[1;32m     28\u001b[0m \u001b[0;32mfrom\u001b[0m \u001b[0;34m.\u001b[0m\u001b[0m_rheology\u001b[0m \u001b[0;32mimport\u001b[0m \u001b[0mRheology\u001b[0m\u001b[0;34m,\u001b[0m \u001b[0mConstantViscosity\u001b[0m\u001b[0;34m,\u001b[0m \u001b[0mViscousCreep\u001b[0m\u001b[0;34m\u001b[0m\u001b[0m\n",
      "\u001b[0;32m/workspace/user_data/UWGeodynamics/UWGeodynamics/LecodeIsostasy/__init__.py\u001b[0m in \u001b[0;36m<module>\u001b[0;34m\u001b[0m\n\u001b[1;32m      1\u001b[0m \u001b[0;32mfrom\u001b[0m \u001b[0m__future__\u001b[0m \u001b[0;32mimport\u001b[0m \u001b[0mprint_function\u001b[0m\u001b[0;34m,\u001b[0m  \u001b[0mabsolute_import\u001b[0m\u001b[0;34m\u001b[0m\u001b[0m\n\u001b[0;32m----> 2\u001b[0;31m \u001b[0;32mfrom\u001b[0m \u001b[0;34m.\u001b[0m\u001b[0mLecodeIsostasy\u001b[0m \u001b[0;32mimport\u001b[0m \u001b[0mLecodeIsostasy\u001b[0m\u001b[0;34m\u001b[0m\u001b[0m\n\u001b[0m\u001b[1;32m      3\u001b[0m \u001b[0m__version__\u001b[0m \u001b[0;34m=\u001b[0m \u001b[0;34m\"0.1\"\u001b[0m\u001b[0;34m\u001b[0m\u001b[0m\n\u001b[1;32m      4\u001b[0m \u001b[0;34m\u001b[0m\u001b[0m\n",
      "\u001b[0;32m/workspace/user_data/UWGeodynamics/UWGeodynamics/LecodeIsostasy/LecodeIsostasy.py\u001b[0m in \u001b[0;36m<module>\u001b[0;34m\u001b[0m\n\u001b[1;32m      4\u001b[0m \u001b[0;32mfrom\u001b[0m \u001b[0mmpi4py\u001b[0m \u001b[0;32mimport\u001b[0m \u001b[0mMPI\u001b[0m\u001b[0;34m\u001b[0m\u001b[0m\n\u001b[1;32m      5\u001b[0m \u001b[0;32mfrom\u001b[0m \u001b[0mscipy\u001b[0m\u001b[0;34m.\u001b[0m\u001b[0minterpolate\u001b[0m \u001b[0;32mimport\u001b[0m \u001b[0minterp1d\u001b[0m\u001b[0;34m,\u001b[0m \u001b[0minterp2d\u001b[0m\u001b[0;34m\u001b[0m\u001b[0m\n\u001b[0;32m----> 6\u001b[0;31m \u001b[0;32mfrom\u001b[0m \u001b[0mUWGeodynamics\u001b[0m\u001b[0;34m.\u001b[0m\u001b[0m_material\u001b[0m \u001b[0;32mimport\u001b[0m \u001b[0mMaterial\u001b[0m\u001b[0;34m\u001b[0m\u001b[0m\n\u001b[0m\u001b[1;32m      7\u001b[0m \u001b[0;34m\u001b[0m\u001b[0m\n\u001b[1;32m      8\u001b[0m \u001b[0mcomm\u001b[0m \u001b[0;34m=\u001b[0m \u001b[0mMPI\u001b[0m\u001b[0;34m.\u001b[0m\u001b[0mCOMM_WORLD\u001b[0m\u001b[0;34m\u001b[0m\u001b[0m\n",
      "\u001b[0;32m/workspace/user_data/UWGeodynamics/UWGeodynamics/_material.py\u001b[0m in \u001b[0;36m<module>\u001b[0;34m\u001b[0m\n\u001b[1;32m      6\u001b[0m \u001b[0;32mimport\u001b[0m \u001b[0mpkg_resources\u001b[0m\u001b[0;34m\u001b[0m\u001b[0m\n\u001b[1;32m      7\u001b[0m \u001b[0;32mfrom\u001b[0m \u001b[0;34m.\u001b[0m\u001b[0mscaling\u001b[0m \u001b[0;32mimport\u001b[0m \u001b[0mu\u001b[0m\u001b[0;34m\u001b[0m\u001b[0m\n\u001b[0;32m----> 8\u001b[0;31m \u001b[0;32mfrom\u001b[0m \u001b[0;34m.\u001b[0m\u001b[0m_utils\u001b[0m \u001b[0;32mimport\u001b[0m \u001b[0mPhaseChange\u001b[0m\u001b[0;34m\u001b[0m\u001b[0m\n\u001b[0m\u001b[1;32m      9\u001b[0m \u001b[0;32mfrom\u001b[0m \u001b[0;34m.\u001b[0m\u001b[0m_rheology\u001b[0m \u001b[0;32mimport\u001b[0m \u001b[0mConstantViscosity\u001b[0m\u001b[0;34m\u001b[0m\u001b[0m\n\u001b[1;32m     10\u001b[0m \u001b[0;32mfrom\u001b[0m \u001b[0;34m.\u001b[0m\u001b[0m_density\u001b[0m \u001b[0;32mimport\u001b[0m \u001b[0mConstantDensity\u001b[0m\u001b[0;34m\u001b[0m\u001b[0m\n",
      "\u001b[0;32m/workspace/user_data/UWGeodynamics/UWGeodynamics/_utils.py\u001b[0m in \u001b[0;36m<module>\u001b[0;34m\u001b[0m\n\u001b[1;32m     10\u001b[0m \u001b[0;32mfrom\u001b[0m \u001b[0;34m.\u001b[0m\u001b[0mscaling\u001b[0m \u001b[0;32mimport\u001b[0m \u001b[0mDimensionalize\u001b[0m\u001b[0;34m\u001b[0m\u001b[0m\n\u001b[1;32m     11\u001b[0m \u001b[0;32mfrom\u001b[0m \u001b[0;34m.\u001b[0m\u001b[0mscaling\u001b[0m \u001b[0;32mimport\u001b[0m \u001b[0mUnitRegistry\u001b[0m \u001b[0;32mas\u001b[0m \u001b[0mu\u001b[0m\u001b[0;34m\u001b[0m\u001b[0m\n\u001b[0;32m---> 12\u001b[0;31m \u001b[0;32mfrom\u001b[0m \u001b[0;34m.\u001b[0m\u001b[0mUnderworld_extended\u001b[0m \u001b[0;32mimport\u001b[0m \u001b[0mSwarm\u001b[0m\u001b[0;34m\u001b[0m\u001b[0m\n\u001b[0m\u001b[1;32m     13\u001b[0m \u001b[0;32mfrom\u001b[0m \u001b[0mscipy\u001b[0m \u001b[0;32mimport\u001b[0m \u001b[0mspatial\u001b[0m\u001b[0;34m\u001b[0m\u001b[0m\n\u001b[1;32m     14\u001b[0m \u001b[0;32mfrom\u001b[0m \u001b[0mmpi4py\u001b[0m \u001b[0;32mimport\u001b[0m \u001b[0mMPI\u001b[0m\u001b[0;34m\u001b[0m\u001b[0m\n",
      "\u001b[0;32m/workspace/user_data/UWGeodynamics/UWGeodynamics/Underworld_extended/__init__.py\u001b[0m in \u001b[0;36m<module>\u001b[0;34m\u001b[0m\n\u001b[1;32m      1\u001b[0m \u001b[0;32mfrom\u001b[0m \u001b[0m__future__\u001b[0m \u001b[0;32mimport\u001b[0m \u001b[0mprint_function\u001b[0m\u001b[0;34m,\u001b[0m  \u001b[0mabsolute_import\u001b[0m\u001b[0;34m\u001b[0m\u001b[0m\n\u001b[0;32m----> 2\u001b[0;31m \u001b[0;32mfrom\u001b[0m \u001b[0;34m.\u001b[0m\u001b[0m_mesh\u001b[0m \u001b[0;32mimport\u001b[0m \u001b[0mFeMesh_Cartesian\u001b[0m\u001b[0;34m\u001b[0m\u001b[0m\n\u001b[0m\u001b[1;32m      3\u001b[0m \u001b[0;32mfrom\u001b[0m \u001b[0;34m.\u001b[0m\u001b[0m_swarm\u001b[0m \u001b[0;32mimport\u001b[0m \u001b[0mSwarm\u001b[0m\u001b[0;34m\u001b[0m\u001b[0m\n\u001b[1;32m      4\u001b[0m \u001b[0;32mfrom\u001b[0m \u001b[0;34m.\u001b[0m\u001b[0m_swarmvariable\u001b[0m \u001b[0;32mimport\u001b[0m \u001b[0mSwarmVariable\u001b[0m\u001b[0;34m\u001b[0m\u001b[0m\n\u001b[1;32m      5\u001b[0m \u001b[0;32mfrom\u001b[0m \u001b[0;34m.\u001b[0m\u001b[0m_meshvariable\u001b[0m \u001b[0;32mimport\u001b[0m \u001b[0mMeshVariable\u001b[0m\u001b[0;34m\u001b[0m\u001b[0m\n",
      "\u001b[0;32m/workspace/user_data/UWGeodynamics/UWGeodynamics/Underworld_extended/_mesh.py\u001b[0m in \u001b[0;36m<module>\u001b[0;34m\u001b[0m\n\u001b[1;32m      6\u001b[0m \u001b[0;32mfrom\u001b[0m \u001b[0mUWGeodynamics\u001b[0m\u001b[0;34m.\u001b[0m\u001b[0mscaling\u001b[0m \u001b[0;32mimport\u001b[0m \u001b[0mnonDimensionalize\u001b[0m\u001b[0;34m\u001b[0m\u001b[0m\n\u001b[1;32m      7\u001b[0m \u001b[0;32mfrom\u001b[0m \u001b[0mUWGeodynamics\u001b[0m\u001b[0;34m.\u001b[0m\u001b[0mscaling\u001b[0m \u001b[0;32mimport\u001b[0m \u001b[0mUnitRegistry\u001b[0m \u001b[0;32mas\u001b[0m \u001b[0mu\u001b[0m\u001b[0;34m\u001b[0m\u001b[0m\n\u001b[0;32m----> 8\u001b[0;31m \u001b[0;32mfrom\u001b[0m \u001b[0mUWGeodynamics\u001b[0m\u001b[0;34m.\u001b[0m\u001b[0mversion\u001b[0m \u001b[0;32mimport\u001b[0m \u001b[0mgit_revision\u001b[0m \u001b[0;32mas\u001b[0m \u001b[0m__git_revision__\u001b[0m\u001b[0;34m\u001b[0m\u001b[0m\n\u001b[0m\u001b[1;32m      9\u001b[0m \u001b[0;32mfrom\u001b[0m \u001b[0;34m.\u001b[0m \u001b[0;32mimport\u001b[0m \u001b[0m_meshvariable\u001b[0m \u001b[0;32mas\u001b[0m \u001b[0mvar\u001b[0m\u001b[0;34m\u001b[0m\u001b[0m\n\u001b[1;32m     10\u001b[0m \u001b[0;34m\u001b[0m\u001b[0m\n",
      "\u001b[0;31mImportError\u001b[0m: No module named 'UWGeodynamics.version'"
     ]
    }
   ],
   "source": [
    "import UWGeodynamics as GEO\n",
    "import glucifer"
   ]
  },
  {
   "cell_type": "code",
   "execution_count": null,
   "metadata": {},
   "outputs": [],
   "source": [
    "u = GEO.UnitRegistry"
   ]
  },
  {
   "cell_type": "markdown",
   "metadata": {},
   "source": [
    "## Scaling"
   ]
  },
  {
   "cell_type": "code",
   "execution_count": null,
   "metadata": {},
   "outputs": [],
   "source": [
    "half_rate = 1.8 * u.centimeter / u.year\n",
    "model_length = 360e3 * u.meter\n",
    "surfaceTemp = 273.15 * u.degK\n",
    "baseModelTemp = 1603.15 * u.degK\n",
    "bodyforce = 3300 * u.kilogram / u.metre**3 * 9.81 * u.meter / u.second**2\n",
    "\n",
    "KL = model_length\n",
    "Kt = KL / half_rate\n",
    "KM = bodyforce * KL**2 * Kt**2\n",
    "KT = (baseModelTemp - surfaceTemp)\n",
    "\n",
    "GEO.scaling_coefficients[\"[length]\"] = KL\n",
    "GEO.scaling_coefficients[\"[time]\"] = Kt\n",
    "GEO.scaling_coefficients[\"[mass]\"]= KM\n",
    "GEO.scaling_coefficients[\"[temperature]\"] = KT"
   ]
  },
  {
   "cell_type": "markdown",
   "metadata": {},
   "source": [
    "**Define finite strain for rifting events**"
   ]
  },
  {
   "cell_type": "code",
   "execution_count": null,
   "metadata": {},
   "outputs": [],
   "source": [
    "finite_strain = 0.2\n",
    "length = 360 # km\n",
    "length_R1 = length * (1+finite_strain)\n",
    "length_R2 = length * (1+finite_strain)**2\n",
    "\n",
    "print(length, length_R1, length_R2)"
   ]
  },
  {
   "cell_type": "markdown",
   "metadata": {},
   "source": [
    "# Define the external geometry\n",
    "\n",
    "The first step is to define the geometry of our problem, essentially a box on which we will apply some physical constraints and that will contain a set of materials. We can think of it as an \"universe\".\n",
    "The \"laws\" and their effects are calculated on a mesh, that mesh discretized our universe into finite elements.\n",
    "\n",
    "The geodynamics module allows you to quickly set up a model by creating a *Model* object.\n",
    "A series of arguments are required to define a *Model*:\n",
    "\n",
    "    - The number of elements in each direction elementRes=(nx, ny);\n",
    "    - The minimum coordinates for each axis minCoord=(minX, minY)\n",
    "    - The maximum coordinates for each axis maxCoord=(maxX, maxY)\n",
    "    - A vector that defines the magnitude and direction of the gravity components gravity=(gx, gy)\n",
    " "
   ]
  },
  {
   "cell_type": "code",
   "execution_count": null,
   "metadata": {},
   "outputs": [],
   "source": [
    "Model = GEO.Model(elementRes=(128, 64), \n",
    "                  minCoord=(0. * u.kilometer, -110. * u.kilometer), \n",
    "                  maxCoord=(360. * u.kilometer, 10. * u.kilometer), \n",
    "                  gravity=(0.0, -9.81 * u.meter / u.second**2))"
   ]
  },
  {
   "cell_type": "code",
   "execution_count": null,
   "metadata": {},
   "outputs": [],
   "source": [
    "Model.outputDir = \"outputs_tutorial1\""
   ]
  },
  {
   "cell_type": "markdown",
   "metadata": {},
   "source": [
    "# Add some Materials\n",
    "\n",
    "Now that we have our \"universe\" (box, sand pit) ready, we need to fill it with some materials.\n",
    "The *geodynamics* module is designed around that idea of materials, which are essentially a way to define physical properties across the Model domain.\n",
    "\n",
    "A material (or a phase) is first defined by the space it takes in the box (its shape)."
   ]
  },
  {
   "cell_type": "code",
   "execution_count": null,
   "metadata": {},
   "outputs": [],
   "source": [
    "Model.diffusivity = 1e-6 * u.metre**2 / u.second \n",
    "Model.capacity    = 1000. * u.joule / (u.kelvin * u.kilogram)"
   ]
  },
  {
   "cell_type": "markdown",
   "metadata": {},
   "source": [
    "The Model we are building is essentially a layered cake. The geodynamics module provide and easy way to define a layer by defining shape as *layer* and specifying its *top* and *bottom*. The order is important: when 2 shapes overlay each other, only the second is used."
   ]
  },
  {
   "cell_type": "code",
   "execution_count": null,
   "metadata": {},
   "outputs": [],
   "source": [
    "air = Model.add_material(name=\"Air\", shape=GEO.shapes.Layer(top=Model.top, bottom=2.0 * u.kilometer))\n",
    "stickyAir = Model.add_material(name=\"StickyAir\", shape=GEO.shapes.Layer(top=air.bottom, bottom= 0.0 * u.kilometer))\n",
    "crust = Model.add_material(name=\"Crust\", shape=GEO.shapes.Layer(top=stickyAir.bottom, bottom=-35.0 * u.kilometer))\n",
    "mantleLithosphere = Model.add_material(name=\"MantleLithosphere\", shape=GEO.shapes.Layer(top=crust.bottom, bottom=-100.0 * u.kilometer))\n",
    "mantle = Model.add_material(name=\"Mantle\", shape=GEO.shapes.Layer(top=mantleLithosphere.bottom, bottom=Model.bottom))"
   ]
  },
  {
   "cell_type": "code",
   "execution_count": null,
   "metadata": {},
   "outputs": [],
   "source": [
    "air.diffusivity = 1.0e-6 * u.metre**2 / u.second\n",
    "stickyAir.diffusivity = 1.0e-6 * u.metre**2 / u.second\n",
    "\n",
    "air.capacity = 100. * u.joule / (u.kelvin * u.kilogram)\n",
    "stickyAir.capacity = 100. * u.joule / (u.kelvin * u.kilogram)"
   ]
  },
  {
   "cell_type": "code",
   "execution_count": null,
   "metadata": {},
   "outputs": [],
   "source": [
    "air.density = 1. * u.kilogram / u.metre**3\n",
    "stickyAir.density = 1. * u.kilogram / u.metre**3\n",
    "crust.density = GEO.LinearDensity(2620. * u.kilogram / u.metre**3, thermalExpansivity=3e-5 / u.kelvin)\n",
    "mantleLithosphere.density = GEO.LinearDensity(3370. * u.kilogram / u.metre**3, thermalExpansivity=3e-5 / u.kelvin)\n",
    "mantle.density = GEO.LinearDensity(3370. * u.kilogram / u.metre**3, thermalExpansivity=3e-5 / u.kelvin)"
   ]
  },
  {
   "cell_type": "code",
   "execution_count": null,
   "metadata": {},
   "outputs": [],
   "source": [
    "crust.radiogenicHeatProd = 0.7 * u.microwatt / u.meter**3\n",
    "mantleLithosphere.radiogenicHeatProd = 0.02e-6 * u.microwatt / u.meter**3"
   ]
  },
  {
   "cell_type": "markdown",
   "metadata": {},
   "source": [
    "# Define Viscosities\n",
    "\n",
    "The rheology library contains some commonly used rheologies stored in a python dictionary structure. We can list the keys defining the rheologies as follows:"
   ]
  },
  {
   "cell_type": "code",
   "execution_count": null,
   "metadata": {},
   "outputs": [],
   "source": [
    "rh = GEO.ViscousCreepRegistry()"
   ]
  },
  {
   "cell_type": "code",
   "execution_count": null,
   "metadata": {},
   "outputs": [],
   "source": [
    "Model.minViscosity = 1e18 * u.pascal * u.second\n",
    "Model.maxViscosity = 1e23 * u.pascal * u.second\n",
    "\n",
    "air.viscosity                = 1e19 * u.pascal * u.second\n",
    "stickyAir.viscosity          = 1e20 * u.pascal * u.second\n",
    "crust.viscosity              = rh.Wet_Quartz_Dislocation_Gleason_and_Tullis_1995\n",
    "mantleLithosphere.viscosity  = 5.0 * rh.Dry_Olivine_Dislocation_Karato_and_Wu_1990\n",
    "mantle.viscosity             = 1.0 * rh.Dry_Olivine_Dislocation_Karato_and_Wu_1990"
   ]
  },
  {
   "cell_type": "markdown",
   "metadata": {},
   "source": [
    "# Define Plasticity\n",
    "\n",
    "Plastic behavior is assigned using the same approach as for viscosities."
   ]
  },
  {
   "cell_type": "code",
   "execution_count": null,
   "metadata": {},
   "outputs": [],
   "source": [
    "pl = GEO.PlasticityRegistry()"
   ]
  },
  {
   "cell_type": "code",
   "execution_count": null,
   "metadata": {},
   "outputs": [],
   "source": [
    "crust.plasticity              = pl.Huismans_et_al_2011_Crust\n",
    "mantleLithosphere.plasticity  = pl.Huismans_et_al_2011_Crust\n",
    "mantle.plasticity             = pl.Huismans_et_al_2011_Crust"
   ]
  },
  {
   "cell_type": "code",
   "execution_count": null,
   "metadata": {},
   "outputs": [],
   "source": [
    "air"
   ]
  },
  {
   "cell_type": "code",
   "execution_count": null,
   "metadata": {},
   "outputs": [],
   "source": [
    "crust"
   ]
  },
  {
   "cell_type": "markdown",
   "metadata": {},
   "source": [
    "## Temperature Boundary Conditions"
   ]
  },
  {
   "cell_type": "code",
   "execution_count": null,
   "metadata": {},
   "outputs": [],
   "source": [
    "Model.set_temperatureBCs(top=293.15 * u.degK, \n",
    "                         bottom=1603.15 * u.degK, \n",
    "                         materials=[(air, 293.15 * u.degK), (stickyAir, 293.15 * u.degK)])"
   ]
  },
  {
   "cell_type": "markdown",
   "metadata": {},
   "source": [
    "## Velocity Boundary Conditions"
   ]
  },
  {
   "cell_type": "code",
   "execution_count": null,
   "metadata": {},
   "outputs": [],
   "source": [
    "Model.set_velocityBCs(left=[-2.5 * u.centimeter / u.year, None],\n",
    "                       right=[2.5 * u.centimeter / u.year, None],\n",
    "                       bottom=GEO.LecodeIsostasy(reference_mat=mantle, average=True))"
   ]
  },
  {
   "cell_type": "markdown",
   "metadata": {},
   "source": [
    "## Initialize plastic strain"
   ]
  },
  {
   "cell_type": "code",
   "execution_count": null,
   "metadata": {},
   "outputs": [],
   "source": [
    "import numpy as np\n",
    "\n",
    "def gaussian(xx, centre, width):\n",
    "    return ( np.exp( -(xx - centre)**2 / width ))\n",
    "\n",
    "maxDamage = 0.7\n",
    "Model.plasticStrain.data[:] = maxDamage * np.random.rand(*Model.plasticStrain.data.shape[:])\n",
    "Model.plasticStrain.data[:,0] *= gaussian(Model.swarm.particleCoordinates.data[:,0], (GEO.nd(Model.maxCoord[0] - Model.minCoord[0])) / 2.0, GEO.nd(5.0 * u.kilometer))\n",
    "Model.plasticStrain.data[:,0] *= gaussian(Model.swarm.particleCoordinates.data[:,1], GEO.nd(-35. * u.kilometer) , GEO.nd(5.0 * u.kilometer))"
   ]
  },
  {
   "cell_type": "code",
   "execution_count": null,
   "metadata": {
    "tags": [
     "analysis"
    ]
   },
   "outputs": [],
   "source": [
    "Fig = glucifer.Figure(figsize=(1200, 400))\n",
    "Fig.Points(Model.swarm, Model.plasticStrain, fn_size=4.0)\n",
    "Fig.show()"
   ]
  },
  {
   "cell_type": "markdown",
   "metadata": {},
   "source": [
    "# Passive Tracers\n",
    "\n",
    "### Single tracer\n",
    "\n",
    "We create a single tracer that we place at the surface, in a central position. "
   ]
  },
  {
   "cell_type": "code",
   "execution_count": null,
   "metadata": {},
   "outputs": [],
   "source": [
    "x = (Model.maxCoord[0] - Model.minCoord[0]) / 2.0 # This is the center of the model\n",
    "y = 0.0 # The point is located at the surface, initially set at 0.\n",
    "\n",
    "central_tracer = Model.add_passive_tracers(name=\"central\", vertices=[x,y])"
   ]
  },
  {
   "cell_type": "markdown",
   "metadata": {},
   "source": [
    "### Interface tracers\n",
    "\n",
    "We add 2 sets of tracers for tracking the interface at the surface and the moho."
   ]
  },
  {
   "cell_type": "code",
   "execution_count": null,
   "metadata": {},
   "outputs": [],
   "source": [
    "import numpy as np\n",
    "\n",
    "npoints = 1000 # This is the number of points used to define the surface\n",
    "x = np.linspace(GEO.nd(Model.minCoord[0]), GEO.nd(Model.maxCoord[0]), npoints) * u.kilometer\n",
    "y = 0. * u.kilometer\n",
    "\n",
    "surface_tracers = Model.add_passive_tracers(name=\"Surface\", vertices=[x,y])\n",
    "moho_tracers = Model.add_passive_tracers(name=\"Moho\", vertices=[x,y-35.*u.kilometer])"
   ]
  },
  {
   "cell_type": "markdown",
   "metadata": {},
   "source": [
    "### Grid Tracers"
   ]
  },
  {
   "cell_type": "code",
   "execution_count": null,
   "metadata": {},
   "outputs": [],
   "source": [
    "x_c, y_c = GEO.circles_grid(radius=2.0*u.kilometer, \n",
    "                    minCoord=[Model.minCoord[0], crust.bottom], \n",
    "                    maxCoord=[Model.maxCoord[0], 0.*u.kilometer])\n",
    "\n",
    "FSE_Crust = Model.add_passive_tracers(name=\"FSE_Crust\", vertices=[x_c, y_c])\n",
    "\n",
    "x_m, y_m = GEO.circles_grid(radius=2.0*u.kilometer, \n",
    "                    minCoord=[Model.minCoord[0], mantleLithosphere.bottom], \n",
    "                    maxCoord=[Model.maxCoord[0], mantleLithosphere.top])\n",
    "\n",
    "FSE_Mantle = Model.add_passive_tracers(name=\"FSE_Mantle\", vertices=[x_m, y_m])"
   ]
  },
  {
   "cell_type": "code",
   "execution_count": null,
   "metadata": {
    "tags": [
     "analysis"
    ]
   },
   "outputs": [],
   "source": [
    "Fig = glucifer.Figure(figsize=(1200,400), title=\"Material Field\", quality=2)\n",
    "Fig.Points(surface_tracers.swarm, pointSize=2.0)\n",
    "Fig.Points(moho_tracers.swarm, pointSize=2.0, colour=\"red\")\n",
    "Fig.Points(FSE_Crust.swarm, pointSize=2.0)\n",
    "Fig.Points(FSE_Mantle.swarm, pointSize=2.0)\n",
    "Fig.Points(Model.swarm, Model.materialField, fn_size=2.0)\n",
    "Fig.show()"
   ]
  },
  {
   "cell_type": "markdown",
   "metadata": {},
   "source": [
    "# Compute initial condition"
   ]
  },
  {
   "cell_type": "code",
   "execution_count": null,
   "metadata": {},
   "outputs": [],
   "source": [
    "Model.init_model()"
   ]
  },
  {
   "cell_type": "code",
   "execution_count": null,
   "metadata": {
    "tags": [
     "analysis"
    ]
   },
   "outputs": [],
   "source": [
    "Fig = glucifer.Figure(figsize=(1200,400), title=\"Temperature Field (Celsius)\", quality=3)\n",
    "Fig.Surface(Model.mesh, GEO.Dimensionalize(Model.temperature, u.degC), colours=\"coolwarm\")\n",
    "Fig.show()"
   ]
  },
  {
   "cell_type": "code",
   "execution_count": null,
   "metadata": {
    "tags": [
     "analysis"
    ]
   },
   "outputs": [],
   "source": [
    "Fig = glucifer.Figure(figsize=(1200,400), title=\"Pressure Field (MPa)\", quality=3)\n",
    "Fig.Surface(Model.mesh, GEO.Dimensionalize(Model.pressureField, u.megapascal))\n",
    "Fig.show()"
   ]
  },
  {
   "cell_type": "markdown",
   "metadata": {},
   "source": [
    "## Basic Analysis of the initial set-up\n",
    "\n",
    "Let's analyze the pressure and temperature field by creating a vertical profile at the center of the model."
   ]
  },
  {
   "cell_type": "code",
   "execution_count": null,
   "metadata": {
    "tags": [
     "analysis"
    ]
   },
   "outputs": [],
   "source": [
    "# Only run this when in serial. Will fail in parallel\n",
    "\n",
    "if GEO.uw.nProcs() == 1:\n",
    "\n",
    "    import matplotlib.pyplot as plt\n",
    "\n",
    "    moho_average_temperature = Model.temperature.evaluate(moho_tracers.swarm).mean()\n",
    "    moho_average_temperature = GEO.Dimensionalize(moho_average_temperature, u.degC)\n",
    "\n",
    "    print(\"Average Temperature at Moho: {0:5.0f}\".format(moho_average_temperature))\n",
    "\n",
    "    distances, temperature = GEO.extract_profile(Model.temperature, line = [(180.* u.kilometer, 0.), (180.* u.kilometer, Model.bottom)])\n",
    "    distances, pressure = GEO.extract_profile(Model.pressureField, line = [(180.* u.kilometer, 0.), (180.* u.kilometer, Model.bottom)])\n",
    "\n",
    "    Fig, (ax1, ax2) = plt.subplots(1,2,figsize=(15,7))\n",
    "    ax1.plot(GEO.Dimensionalize(temperature, u.degK), GEO.Dimensionalize(distances, u.kilometer))\n",
    "    ax1.set_xlabel(\"Temperature in Kelvin\")\n",
    "    ax1.set_ylabel(\"Depth in kms\")\n",
    "    ax1.set_ylim(100, 0)\n",
    "    ax1.set_title(\"Temperature profile\")\n",
    "\n",
    "    ax2.plot(GEO.Dimensionalize(pressure, u.megapascal), GEO.Dimensionalize(distances, u.kilometer))\n",
    "    ax2.set_xlabel(\"Pressure in megapascal\")\n",
    "    ax2.set_ylabel(\"Depth in kms\")\n",
    "    ax2.set_title(\"Pressure profile\")\n",
    "    ax2.set_ylim(100, 0)\n",
    "    plt.show()"
   ]
  },
  {
   "cell_type": "markdown",
   "metadata": {},
   "source": [
    "In a similar fashion, one can extract a vertical profile of the viscosity field."
   ]
  },
  {
   "cell_type": "code",
   "execution_count": null,
   "metadata": {
    "tags": [
     "analysis"
    ]
   },
   "outputs": [],
   "source": [
    "Fig = glucifer.Figure(figsize=(1200,400), title=\"Viscosity Field (Pa.s)\", quality=3)\n",
    "Fig.Points(Model.swarm, \n",
    "           GEO.Dimensionalize(Model.viscosityField, u.pascal * u.second),\n",
    "           logScale=True,\n",
    "           fn_size=3.0)\n",
    "Fig.show()"
   ]
  },
  {
   "cell_type": "code",
   "execution_count": null,
   "metadata": {
    "tags": [
     "analysis"
    ]
   },
   "outputs": [],
   "source": [
    "# Only run this when in serial. Will fail in parallel\n",
    "\n",
    "if GEO.uw.nProcs() == 1:\n",
    "\n",
    "    distances, viscosities = GEO.extract_profile(Model.projViscosityField, \n",
    "                                                 line = [(180.* u.kilometer, 0.), (180.* u.kilometer, Model.bottom)])\n",
    "    distances, stresses = GEO.extract_profile(Model.projStressField, \n",
    "                                             line = [(180.* u.kilometer, 0.), (180.* u.kilometer, Model.bottom)])\n",
    "\n",
    "\n",
    "    Fig, (ax1) = plt.subplots(1,1,figsize=(7,7))\n",
    "    ax1.plot(GEO.Dimensionalize(viscosities, u.pascal * u.second), GEO.Dimensionalize(distances, u.kilometer))\n",
    "    ax1.set_xlabel(\"Viscosity in Pa.s\")\n",
    "    ax1.set_ylabel(\"Depth in kms\")\n",
    "    ax1.set_ylim(100,-10)\n",
    "    ax1.set_title(\"Viscosity profile\")"
   ]
  },
  {
   "cell_type": "markdown",
   "metadata": {},
   "source": [
    "## Solver options"
   ]
  },
  {
   "cell_type": "code",
   "execution_count": null,
   "metadata": {},
   "outputs": [],
   "source": [
    "Model.solver.set_inner_method(\"mumps\")\n",
    "Model.solver.set_penalty(1e6)\n",
    "GEO.rcParams[\"initial.nonlinear.tolerance\"] = 1e-4"
   ]
  },
  {
   "cell_type": "markdown",
   "metadata": {},
   "source": [
    "# Run the Model"
   ]
  },
  {
   "cell_type": "code",
   "execution_count": null,
   "metadata": {},
   "outputs": [],
   "source": [
    "Model.run_for(nstep=2, checkpoint_interval=1)"
   ]
  },
  {
   "cell_type": "code",
   "execution_count": null,
   "metadata": {
    "tags": [
     "analysis"
    ]
   },
   "outputs": [],
   "source": [
    "Fig = glucifer.Figure(figsize=(1200,400), title=\"Viscosity Field (Pa.s)\", quality=3)\n",
    "Fig.Points(Model.swarm, \n",
    "           GEO.Dimensionalize(Model.viscosityField, u.pascal * u.second),\n",
    "           logScale=True,\n",
    "           fn_size=3.0)\n",
    "Fig.VectorArrows(Model.mesh, Model.velocityField)\n",
    "Fig.show()"
   ]
  },
  {
   "cell_type": "code",
   "execution_count": null,
   "metadata": {
    "tags": [
     "analysis"
    ]
   },
   "outputs": [],
   "source": [
    "Fig = glucifer.Figure(figsize=(1200,400), title=\"Viscosity Field (Pa.s)\", quality=3)\n",
    "Fig.Surface(Model.mesh, \n",
    "           GEO.Dimensionalize(Model.strainRateField, 1.0 / u.second),\n",
    "           logScale=True)\n",
    "Fig.show()"
   ]
  }
 ],
 "metadata": {
  "kernelspec": {
   "display_name": "Python 3",
   "language": "python",
   "name": "python3"
  }
 },
 "nbformat": 4,
 "nbformat_minor": 2
}
