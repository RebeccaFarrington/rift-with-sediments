{
 "cells": [
  {
   "cell_type": "markdown",
   "metadata": {},
   "source": [
    "# Salerno et al (2016) stree profile\n"
   ]
  },
  {
   "cell_type": "markdown",
   "metadata": {},
   "source": [
    "This notebook reproduces the R1-R1 model as shown in Figure 3.(d,f) of Salerno, V. M., F. A. Capitanio,\n",
    "R. J. Farrington, and N. Riel (2016), The role of long-term rifting history on modes of continental lithosphere extension, J. Geophys. Res. Solid Earth, 121, (doi:10.1002/2016JB013005."
   ]
  },
  {
   "cell_type": "markdown",
   "metadata": {},
   "source": [
    "From Karato & Wu (1993) Science, we have the (probable) rheology of the upper mantle dominated by polycrystalline olivine. At steady state, the strain rate ($\\dot\\epsilon$) of rocks depends on temperature ($T$), pressure ($P$), grain size ($d$), and shear stress ($\\sigma$) as\n",
    "\n",
    "$$ \\dot\\epsilon = A (\\sigma/\\mu)^n (b/d)^m exp[-(E + PV)/RT] $$\n",
    "\n",
    "where $A$ is the presxponential factor, $\\mu$ is the shear modulus ($\\approx 80$ GPa), $b$ is the length of the Burgers vector ($\\approx 0.5 nm$), $n$ is the stress exponent, $m$ is the grain-size exponent, $E$ is the activation energy, $V$ is the activation volume, and $R$ is the gas constant.\n",
    "\n",
    "In the work of Salerno et al (2016), dependence on grain size and pressure were discounted. Thus reducing the above to \n",
    "\n",
    "$$ \\dot\\epsilon = A (\\sigma/\\mu)^n exp[-E/RT] $$\n",
    "\n",
    "The effective viscosity can then be calculated using \n",
    "\n",
    "$$ \\mu_{eff} = A^{-1/n} \\dot\\epsilon^{1-n/n} exp[E/nRT] $$"
   ]
  },
  {
   "cell_type": "code",
   "execution_count": 1,
   "metadata": {},
   "outputs": [
    {
     "name": "stdout",
     "output_type": "stream",
     "text": [
      "loaded rc file /opt/UWGeodynamics/UWGeodynamics/uwgeo-data/uwgeodynamicsrc\n"
     ]
    }
   ],
   "source": [
    "import UWGeodynamics as GEO\n",
    "import glucifer\n",
    "\n",
    "import math\n",
    "import numpy as np\n",
    "import matplotlib.pyplot as plt\n"
   ]
  },
  {
   "cell_type": "code",
   "execution_count": 2,
   "metadata": {},
   "outputs": [],
   "source": [
    "u = GEO.UnitRegistry"
   ]
  },
  {
   "cell_type": "markdown",
   "metadata": {},
   "source": [
    "**Define the Temperature profile**"
   ]
  },
  {
   "cell_type": "code",
   "execution_count": 3,
   "metadata": {},
   "outputs": [],
   "source": [
    "T0 = 273.15  * u.kelvin # surface temperature\n",
    "Qm = 30.0e-3 * u.watt / u.meter**2  # heat flux from mantle\n",
    "Hr = 1.2e-6  * u.watt / u.meter**3  # crustal radiogenic heat production,\n",
    "h  = 30.0    * u.kilometer  # crustal thickness\n",
    "H  = 70.0    * u.kilometer  # lithospheric crustal thickness\n",
    "a  = h+H \n",
    "k  = 2.6     * u.watt / u.meter / u.kelvin  # thermal conductivity\n",
    "kappa  = 1.0e-6  * u.meter**2 / u.second        # thermal diffusivity"
   ]
  },
  {
   "cell_type": "code",
   "execution_count": 4,
   "metadata": {},
   "outputs": [],
   "source": [
    "npoints = 120 # This is the number of points used to define the surface\n",
    "depth   = np.linspace(0., 120., npoints) * u.kilometer\n",
    "T       = np.zeros(120) * u.kelvin\n",
    "density = np.linspace(0., 120., npoints) * u.kilogram / u.meter**3\n",
    "A       = np.linspace(0., 120., npoints) \n",
    "n       = np.linspace(0., 120., npoints) \n",
    "E       = np.linspace(0., 120., npoints) * u.kilojoule/u.mole\n"
   ]
  },
  {
   "cell_type": "code",
   "execution_count": 26,
   "metadata": {},
   "outputs": [],
   "source": [
    "# E"
   ]
  },
  {
   "cell_type": "code",
   "execution_count": 5,
   "metadata": {},
   "outputs": [],
   "source": [
    "for i, y in enumerate(depth):\n",
    "    Tc_max = T0 + ((Qm + Hr*h)/k)*h-(Hr/(2.*k))*h**2\n",
    "    if y < 15.0 * u.kilometer:\n",
    "        density[i] = 2700 * u.kilogram / u.meter**3\n",
    "        T[i]     = T0 + ((Qm + Hr*h)/k)*y-(Hr/(2.*k))*y**2\n",
    "        A[i]     = 1.1e-4\n",
    "        n[i]     = 4.0\n",
    "        E[i]     = 223.* u.kilojoule/u.mole\n",
    "    elif y < 30.0 * u.kilometer:\n",
    "        density[i] = 2900 * u.kilogram / u.meter**3\n",
    "        T[i]     = T0 + ((Qm + Hr*h)/k)*y-(Hr/(2.*k))*y**2\n",
    "        A[i]     = 190.0\n",
    "        n[i]     = 4.7        \n",
    "        E[i]     = 484.* u.kilojoule/u.mole\n",
    "    elif y < 100.0 * u.kilometer:\n",
    "        density[i] = 3300 * u.kilogram / u.meter**3\n",
    "        T[i]     = Tc_max + (Qm/k)*(y-h)\n",
    "        A[i]     = 4.5\n",
    "        n[i]     = 2.6\n",
    "        E[i]     = 535.* u.kilojoule/u.mole\n",
    "    else:\n",
    "        T[i]     = 1573.15 * u.degK\n",
    "        density[i] = 3300 * u.kilogram / u.meter**3\n",
    "        A[i]     = 4.5\n",
    "        n[i]     = 2.6\n",
    "        E[i]     = 535.* u.kilojoule/u.mole\n",
    "    if T[i] > 1573.15 * u.degK:\n",
    "        T[i] = 1573.15 * u.degK"
   ]
  },
  {
   "cell_type": "markdown",
   "metadata": {},
   "source": [
    "**Discussion re Salerno 2016 rheology parameters**"
   ]
  },
  {
   "cell_type": "code",
   "execution_count": 6,
   "metadata": {},
   "outputs": [],
   "source": [
    "rh = GEO.ViscousCreepRegistry()\n",
    "pl = GEO.PlasticityRegistry()"
   ]
  },
  {
   "cell_type": "code",
   "execution_count": 7,
   "metadata": {},
   "outputs": [],
   "source": [
    "# rh.Gleason_and_Tullis_1995"
   ]
  },
  {
   "cell_type": "code",
   "execution_count": 8,
   "metadata": {},
   "outputs": [],
   "source": [
    "#rh.Mackwell_et_al_1998"
   ]
  },
  {
   "cell_type": "markdown",
   "metadata": {},
   "source": [
    "**Need to fix!**\n",
    "\n",
    "A_LC = 190.0e+0*u.megapascal**-4.7/u.seconds  = 1.1988189545123645e-26 / pascal ** 4.7 / second\n",
    "does not match the Machwell et al 1998 of 5.77904e-27 / pascal ** 4.7 / second **"
   ]
  },
  {
   "cell_type": "code",
   "execution_count": 9,
   "metadata": {},
   "outputs": [
    {
     "name": "stdout",
     "output_type": "stream",
     "text": [
      "0.00011 / megapascal ** 4 / second\n",
      "190.0 / megapascal ** 4.7 / second\n",
      "4.5 / megapascal ** 3.6 / second\n"
     ]
    }
   ],
   "source": [
    "A_UC =   1.1e-4 / (u.megapascal**4.0) / u.seconds\n",
    "A_LC = 190.0e+0 / (u.megapascal**4.7) / u.seconds \n",
    "A_LM =   4.5e+0 / (u.megapascal**3.6) / u.seconds \n",
    "print (A_UC)\n",
    "print (A_LC)\n",
    "print (A_LM)"
   ]
  },
  {
   "cell_type": "code",
   "execution_count": 10,
   "metadata": {},
   "outputs": [
    {
     "name": "stdout",
     "output_type": "stream",
     "text": [
      "1.1e-28 / pascal ** 4 / second\n",
      "1.1988189545123645e-26 / pascal ** 4.7 / second\n",
      "1.1303488941793095e-21 / pascal ** 3.6 / second\n"
     ]
    }
   ],
   "source": [
    "print (A_UC.to(u.pascal**-4.0/u.second))\n",
    "print (A_LC.to(u.pascal**-4.7/u.second))\n",
    "print (A_LM.to(u.pascal**-3.6/u.second))\n"
   ]
  },
  {
   "cell_type": "code",
   "execution_count": 11,
   "metadata": {},
   "outputs": [
    {
     "data": {
      "text/html": [
       "91.59161154960496 1/(megapascal<sup>4.7</sup> second)"
      ],
      "text/latex": [
       "$91.59161154960496\\ \\frac{1}{\\left(\\mathrm{megapascal}^{4.7} \\cdot \\mathrm{second}\\right)}$"
      ],
      "text/plain": [
       "<Quantity(91.59161154960496, '1 / megapascal ** 4.7 / second')>"
      ]
     },
     "execution_count": 11,
     "metadata": {},
     "output_type": "execute_result"
    }
   ],
   "source": [
    "A_LC_Mackwell = 5.77904e-27 / u.pascal ** 4.7 / u.second\n",
    "A_LC_Mackwell.to(u.megapascal**-4.7/u.second)"
   ]
  },
  {
   "cell_type": "markdown",
   "metadata": {},
   "source": [
    "**Define viscous creep and plasticity relationships**"
   ]
  },
  {
   "cell_type": "code",
   "execution_count": 13,
   "metadata": {},
   "outputs": [],
   "source": [
    "# 1. upper crust - wet quartzite [Gleason and Tullis, 1995], \n",
    "# 2. lower crust - wet diabase   [Mackwell et al., 1998], \n",
    "# 3. mantle      - dry olivine   [Chopra and Paterson, 1981].\n",
    "# n = np.array([  4.0e+0,   4.7,   2.6])#  nondimensional\n",
    "# A = np.array([  1.1e-4, 190.0,   4.5])#* u.megapascal**-n/u.second\n",
    "# E = np.array([223.0e+0, 485.0, 535.0])# * u.kilojoule/u.mole"
   ]
  },
  {
   "cell_type": "code",
   "execution_count": 14,
   "metadata": {},
   "outputs": [],
   "source": [
    "# A5 strain rate \n",
    "epsDot = 1.0e-15 / u.second"
   ]
  },
  {
   "cell_type": "code",
   "execution_count": 15,
   "metadata": {},
   "outputs": [],
   "source": [
    "R = 8.314 * u.joule / u.mole / u.kelvin \n",
    "g        = 9.81 * u.meter / u.second**2\n",
    "cohesion = 60. * u.megapascal # cohesion\n",
    "friction = math.atan(0.6)                # friction coefficient\n",
    "P        = density * g * depth\n",
    "\n",
    "yieldStress    = (cohesion * math.cos(friction) + P * math.sin(friction))\n",
    "yieldViscosity =  0.5 * yieldStress / epsDot\n",
    "\n",
    "# From Louis' examples\n",
    "# yieldStress = cohesion + friction * pressureField  !!!! I am here !!!\n",
    "# yieldingViscosityFn =  0.5 * yieldStress / epsDot\n",
    "# viscosityFn = fn.exception.SafeMaths( fn.misc.max(fn.misc.min(yieldingViscosityFn, \n",
    "#                                                               backgroundViscosityFn), \n",
    "#                                                   min_viscosity))"
   ]
  },
  {
   "cell_type": "code",
   "execution_count": 17,
   "metadata": {},
   "outputs": [],
   "source": [
    "# A**(-1./n), A, n"
   ]
  },
  {
   "cell_type": "code",
   "execution_count": 34,
   "metadata": {},
   "outputs": [
    {
     "data": {
      "image/png": "[encoded data removed]",
      "text/plain": [
       "<matplotlib.figure.Figure at 0x7f69268283c8>"
      ]
     },
     "metadata": {
      "needs_background": "light"
     },
     "output_type": "display_data"
    }
   ],
   "source": [
    "Fig, (ax1, ax2, ax3, ax4) = plt.subplots(1,4,figsize=(15,7))\n",
    "\n",
    "ax1.plot(T.to(u.degC), depth.to(u.kilometer))\n",
    "ax1.set_xlabel(\"Temperature (Celcius)\")\n",
    "ax1.set_ylabel(\"Depth in kms\")\n",
    "ax1.set_ylim(120,0)\n",
    "ax1.set_title(\"Geotherm\")\n",
    "\n",
    "ax2.plot(density, depth.to(u.kilometer))\n",
    "ax2.set_xlabel(\"Density (kg / m^3)\")\n",
    "#ax2.set_ylabel(\"Depth in kms\")\n",
    "ax2.set_ylim(120,0)\n",
    "ax2.set_title(\"Density profile\")\n",
    "\n",
    "# viscousCreep  = (0.5*A**(-1./n) * u.megapascal * u.second**(1./n))\n",
    "# viscousCreep *= np.power(epsDot,(1-n)/n) * u.second**((-1.+n)/n)\n",
    "# viscousCreep *= np.exp((E/(n*T*R)))\n",
    "viscousCreep  = 0.5*A**(-1./n)\n",
    "viscousCreep *= np.power(epsDot,(1-n)/n) \n",
    "viscousCreep *= np.exp((E/(n*T*R)))\n",
    "viscousCreep *= u.pascal * u.second\n",
    "\n",
    "for i, x in enumerate(A):\n",
    "    viscousCreep  = 0.5*np.power(A[i],(-1./n[i])) * u.megapascal * u.second**(1./n[i])\n",
    "    viscousCreep *= np.power(epsDot,(1-n[i])/n[i]) * u.second**((-1.+n[i])/n[i])\n",
    "    viscousCreep *= np.exp((E[i]/(n[i]*T*R)))\n",
    "\n",
    "    ax3.plot(np.log10(viscousCreep.to(u.pascal*u.second).magnitude), depth.to(u.kilometer))\n",
    "\n",
    "    stress  = viscousCreep * epsDot \n",
    "    ax4.plot(np.log10(stress.to(u.megapascal).magnitude), depth.to(u.kilometer))\n",
    "    #     set max & min viscosity - no need we have plasticity\n",
    "    #viscousCreepPlot = np.min(viscousCreep, yieldViscosity)\n",
    "# ax3.plot(np.log10(viscousCreep.to(u.pascal*u.second).magnitude), depth.to(u.kilometer))\n",
    "# ax3.plot(np.log10(yieldViscosity.to(u.pascal*u.second).magnitude), depth.to(u.kilometer))\n",
    "\n",
    "\n",
    "# ax3.plot(np.log10(viscousCreep.to(u.pascal*u.second).magnitude), depth.to(u.kilometer))\n",
    "ax3.plot(np.log10(yieldViscosity.to(u.pascal*u.second).magnitude), depth.to(u.kilometer))\n",
    "\n",
    "\n",
    "#stress  = viscousCreep * epsDot \n",
    "#ax4.plot((stress.to(u.megapascal).magnitude), depth.to(u.kilometer))\n",
    "ax4.plot(np.log10(yieldStress.to(u.megapascal).magnitude), depth.to(u.kilometer))\n",
    "\n",
    "ax3.set_xlabel(\"Viscosity (Pa.s)\")\n",
    "#ax3.set_ylabel(\"Depth in kms\")\n",
    "ax3.set_ylim(120,0)\n",
    "ax3.set_title(\"Viscosity profile\")\n",
    "#ax3.set_xlim(19., 25.)\n",
    "         \n",
    "ax4.set_xlabel(\"Stress (MPa)\")\n",
    "#ax4.set_ylabel(\"Depth in kms\")\n",
    "ax4.set_title(\"Stress profile\")\n",
    "ax4.set_ylim(120,0)\n",
    "#ax4.set_xlim(0, 1200)\n",
    "\n",
    "plt.show()\n",
    "Fig.show()\n"
   ]
  },
  {
   "cell_type": "code",
   "execution_count": null,
   "metadata": {},
   "outputs": [],
   "source": [
    "min(0.5*np.power(A,(-1./n)))"
   ]
  },
  {
   "cell_type": "markdown",
   "metadata": {},
   "source": [
    "**This shouldn't be dimensionless**\n",
    "1. sort this out.\n",
    "2. plot Salerno et al parameters\n",
    "3. plot Tutorial_1_ThermoMechanical_model parameters\n",
    "4. plot other vairables.\n"
   ]
  },
  {
   "cell_type": "code",
   "execution_count": null,
   "metadata": {},
   "outputs": [],
   "source": []
  },
  {
   "cell_type": "code",
   "execution_count": null,
   "metadata": {},
   "outputs": [],
   "source": []
  }
 ],
 "metadata": {
  "kernelspec": {
   "display_name": "Python 2",
   "language": "python",
   "name": "python2"
  },
  "language_info": {
   "codemirror_mode": {
    "name": "ipython",
    "version": 2
   },
   "file_extension": ".py",
   "mimetype": "text/x-python",
   "name": "python",
   "nbconvert_exporter": "python",
   "pygments_lexer": "ipython2",
   "version": "2.7.13"
  }
 },
 "nbformat": 4,
 "nbformat_minor": 2
}
